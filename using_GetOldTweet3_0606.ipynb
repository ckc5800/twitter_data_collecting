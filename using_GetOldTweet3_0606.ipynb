{
 "cells": [
  {
   "cell_type": "markdown",
   "metadata": {},
   "source": [
    "## GetOldTweets 을 사용한 트위터 데이터 수집하기\n",
    "\n",
    "안녕하세요, Fukushima project 참여중인 학생 김정욱 입니다.\n",
    "\n",
    "공식 Twitter Api 사용하는 패키지인 tweepy가 premium 버전을 구매하여도 최대 30일밖에 data를 제공하지 않습니다.\n",
    "\n",
    "그래서 bypass tool로 유명한 GetOldTweets3 (with python 3.x version)으로 테스트를 진행하고자 합니다.\n",
    "\n",
    "아래는 참고 링크입니다.\n",
    "\n",
    "- [Twitter premium APIs](https://developer.twitter.com/en/premium-apis)\n",
    "\n",
    "- [GetOldTweets3 package description](https://pypi.org/project/GetOldTweets3/)\n",
    "\n",
    "- https://github.com/Jefferson-Henrique/GetOldTweets-python\n",
    "\n",
    "그러나 본 패키지를 사용함에 있어 우려 사항이 몇가지 발견되었습니다.\n",
    "\n",
    "1. 몇몇 사용자들이 이 패키지로 트윗을 수집하였을 때 전량 수집이 되지 않는다고 응답했습니다.\n",
    "\n",
    "2. 대량의 트윗을 본 패키지를 통해 수집할 경우, Twitter 측에서 ip 밴을 먹인다고 issue를 제기한 사용자가 있습니다.\n",
    "\n",
    "https://github.com/Mottl/GetOldTweets3/issues/19"
   ]
  },
  {
   "cell_type": "code",
   "execution_count": 23,
   "metadata": {},
   "outputs": [],
   "source": [
    "# GetOldTweet3 사용 준비\n",
    "\n",
    "try:\n",
    "    import GetOldTweets3 as got\n",
    "except:\n",
    "    !pip install GetOldTweets3\n",
    "    import GetOldTweets3 as got\n"
   ]
  },
  {
   "cell_type": "code",
   "execution_count": 24,
   "metadata": {},
   "outputs": [
    {
     "name": "stdout",
     "output_type": "stream",
     "text": [
      "=== 설정된 트윗 수집 기간은 2011-01-01 에서 2011-01-31 까지 입니다 ===\n",
      "=== 총 31일 간의 데이터 수집 ===\n"
     ]
    }
   ],
   "source": [
    "# 가져올 범위를 정의\n",
    "# 예제 : 2011-01-01 ~ 2011-01-31\n",
    "\n",
    "import datetime\n",
    "\n",
    "days_range = []\n",
    "\n",
    "start = datetime.datetime.strptime(\"2011-01-01\", \"%Y-%m-%d\")\n",
    "end = datetime.datetime.strptime(\"2011-02-01\", \"%Y-%m-%d\")\n",
    "date_generated = [start + datetime.timedelta(days=x) for x in range(0, (end-start).days)]\n",
    "\n",
    "for date in date_generated:\n",
    "    days_range.append(date.strftime(\"%Y-%m-%d\"))\n",
    "\n",
    "print(\"=== 설정된 트윗 수집 기간은 {} 에서 {} 까지 입니다 ===\".format(days_range[0], days_range[-1]))\n",
    "print(\"=== 총 {}일 간의 데이터 수집 ===\".format(len(days_range)))\n"
   ]
  },
  {
   "cell_type": "code",
   "execution_count": 25,
   "metadata": {},
   "outputs": [],
   "source": [
    "# Beautifulsoup 사용\n",
    "\n",
    "import requests\n",
    "from bs4 import BeautifulSoup\n",
    "\n",
    "def get_bs_obj(url):\n",
    "    header = {'User-Agent':'Mozilla/5.0 (Windows NT 10.0; Win64; x64) AppleWebKit/537.36 (KHTML, like Gecko) Chrome/74.0.3729.169 Safari/537.36'}\n",
    "    result = requests.get(url, header)\n",
    "    bs_obj = BeautifulSoup(result.content, \"html.parser\")\n",
    "    \n",
    "    return bs_obj\n"
   ]
  },
  {
   "cell_type": "code",
   "execution_count": 87,
   "metadata": {
    "scrolled": true
   },
   "outputs": [
    {
     "name": "stdout",
     "output_type": "stream",
     "text": [
      "Collecting data start.. from 2011-01-01 to 2011-01-31\n",
      "Collecting data end.. 2.64 Minutes\n",
      "=== Total # of tweets is 2820 ===\n"
     ]
    },
    {
     "data": {
      "application/vnd.jupyter.widget-view+json": {
       "model_id": "57b38dcebbff40d1ad41256a408715f8",
       "version_major": 2,
       "version_minor": 0
      },
      "text/plain": [
       "HBox(children=(IntProgress(value=0, max=2820), HTML(value='')))"
      ]
     },
     "metadata": {},
     "output_type": "display_data"
    },
    {
     "name": "stdout",
     "output_type": "stream",
     "text": [
      "=== Attribute error occurs at https://twitter.com/kyh805/status/31734869851639809 ===\n",
      "link : https://twitter.com/kyh805\n",
      "=== Attribute error occurs at https://twitter.com/pboo13579/status/27672306507587584 ===\n",
      "link : https://twitter.com/pboo13579\n",
      "=== Attribute error occurs at https://twitter.com/kieonhan/status/26889103572209664 ===\n",
      "link : https://twitter.com/kieonhan\n",
      "=== Attribute error occurs at https://twitter.com/kannas01/status/22086717917888512 ===\n",
      "link : https://twitter.com/kannas01\n"
     ]
    }
   ],
   "source": [
    "# quary search\n",
    "# option : id / permalink / username / to / text ... \n",
    "\n",
    "import time\n",
    "from random import uniform\n",
    "from tqdm import tqdm_notebook\n",
    "\n",
    "# 트윗 수집 기준 정의\n",
    "tweetCriteria = got.manager.TweetCriteria().setQuerySearch('방사선 OR 방사능 OR 원자력 OR 원전')\\\n",
    "                                           .setSince(days_range[0])\\\n",
    "                                           .setUntil(days_range[-1])\\\n",
    "                                           .setMaxTweets(-1)\n",
    "\n",
    "# 수집 with GetOldTweet3\n",
    "\n",
    "print(\"Collecting data start.. from {} to {}\".format(days_range[0], days_range[-1]))\n",
    "start_time = time.time()\n",
    "tweet = got.manager.TweetManager.getTweets(tweetCriteria)\n",
    "print(\"Collecting data end.. {0:0.2f} Minutes\".format((time.time() - start_time)/60))\n",
    "print(\"=== Total # of tweets is {} ===\".format(len(tweet)))\n",
    "\n",
    "# initialize\n",
    "tweet_list = []\n",
    "\n",
    "for index in tqdm_notebook(tweet):\n",
    "    \n",
    "    # 메타데이터 목록 \n",
    "    username = index.username\n",
    "    link = index.permalink \n",
    "    content = index.text\n",
    "    tweet_date = index.date.strftime(\"%Y-%m-%d\")\n",
    "    tweet_time = index.date.strftime(\"%H:%M:%S\")\n",
    "    retweets = index.retweets\n",
    "    favorites = index.favorites\n",
    "    \n",
    "    # === 개인 정보 수집 시작 ===\n",
    "    try:\n",
    "        personal_link = 'https://twitter.com/' + username\n",
    "        bs_obj = get_bs_obj(personal_link)\n",
    "        uls = bs_obj.find(\"ul\", {\"class\": \"ProfileNav-list\"}).find_all(\"li\")\n",
    "        div = bs_obj.find(\"div\", {\"class\": \"ProfileHeaderCard-joinDate\"}).find_all(\"span\")[1][\"title\"]\n",
    "\n",
    "\n",
    "        # 가입일, 전체 트윗 수, 팔로잉 수, 팔로워 수\n",
    "        joined_date = div.split('-')[1].strip()\n",
    "        num_tweets = uls[0].find(\"span\", {\"class\": \"ProfileNav-value\"}).text.strip()\n",
    "        num_following = uls[1].find(\"span\", {\"class\": \"ProfileNav-value\"}).text.strip()\n",
    "        num_follower = uls[2].find(\"span\", {\"class\": \"ProfileNav-value\"}).text.strip()\n",
    "    \n",
    "    except AttributeError:\n",
    "        print(\"=== Attribute error occurs at {} ===\".format(link))\n",
    "        print(\"link : {}\".format(personal_link))\n",
    "        pass\n",
    "     \n",
    "    # 결과 합치기\n",
    "    info_list = [tweet_date, tweet_time, username, content, link, retweets, favorites, \n",
    "                 joined_date, num_tweets, num_following, num_follower]\n",
    "    tweet_list.append(info_list)\n",
    "    \n",
    "    # 해치지 않을께요 밴 먹이지 마세요 ㅠㅠ \n",
    "    time.sleep(uniform(1,3))\n"
   ]
  },
  {
   "cell_type": "code",
   "execution_count": 88,
   "metadata": {},
   "outputs": [
    {
     "name": "stdout",
     "output_type": "stream",
     "text": [
      "=== Total # of tweets is 2820 ===\n"
     ]
    }
   ],
   "source": [
    "# make csv file\n",
    "\n",
    "import pandas as pd\n",
    "\n",
    "twitter_df = pd.DataFrame(tweet_list, \n",
    "                          columns = [\"date\", \"time\", \"user_name\", \"text\", \"link\", \"retweet_counts\", \"favorite_counts\",\n",
    "                                    \"user_created\", \"user_tweets\", \"user_followings\", \"user_followers\"])\n",
    "twitter_df.to_csv(\"twitter_data_{}_to_{}.csv\".format(days_range[0], days_range[-1]), index=False)\n",
    "print(\"=== Total # of tweets is {} ===\".format(len(tweet_list)))"
   ]
  },
  {
   "cell_type": "code",
   "execution_count": 89,
   "metadata": {},
   "outputs": [
    {
     "data": {
      "text/html": [
       "<div>\n",
       "<style scoped>\n",
       "    .dataframe tbody tr th:only-of-type {\n",
       "        vertical-align: middle;\n",
       "    }\n",
       "\n",
       "    .dataframe tbody tr th {\n",
       "        vertical-align: top;\n",
       "    }\n",
       "\n",
       "    .dataframe thead th {\n",
       "        text-align: right;\n",
       "    }\n",
       "</style>\n",
       "<table border=\"1\" class=\"dataframe\">\n",
       "  <thead>\n",
       "    <tr style=\"text-align: right;\">\n",
       "      <th></th>\n",
       "      <th>date</th>\n",
       "      <th>time</th>\n",
       "      <th>user_name</th>\n",
       "      <th>text</th>\n",
       "      <th>link</th>\n",
       "      <th>retweet_counts</th>\n",
       "      <th>favorite_counts</th>\n",
       "      <th>user_created</th>\n",
       "      <th>user_tweets</th>\n",
       "      <th>user_followings</th>\n",
       "      <th>user_followers</th>\n",
       "    </tr>\n",
       "  </thead>\n",
       "  <tbody>\n",
       "    <tr>\n",
       "      <th>0</th>\n",
       "      <td>2011-01-30</td>\n",
       "      <td>23:59:41</td>\n",
       "      <td>hebarakiya</td>\n",
       "      <td>RT @patriamea: '반값 아파트'나 '반값 등록금' 공약은 지키지 않은 채...</td>\n",
       "      <td>https://twitter.com/hebarakiya/status/31864158...</td>\n",
       "      <td>0</td>\n",
       "      <td>0</td>\n",
       "      <td>2010년 8월 21일</td>\n",
       "      <td>374</td>\n",
       "      <td>71</td>\n",
       "      <td>30</td>\n",
       "    </tr>\n",
       "    <tr>\n",
       "      <th>1</th>\n",
       "      <td>2011-01-30</td>\n",
       "      <td>23:59:26</td>\n",
       "      <td>girisann</td>\n",
       "      <td>RT @sweety_hana: 촉구한다!RT@patriamea: '반값 아파트'나 ...</td>\n",
       "      <td>https://twitter.com/girisann/status/3186409203...</td>\n",
       "      <td>0</td>\n",
       "      <td>0</td>\n",
       "      <td>2010년 9월 11일</td>\n",
       "      <td>831</td>\n",
       "      <td>1,644</td>\n",
       "      <td>1,100</td>\n",
       "    </tr>\n",
       "    <tr>\n",
       "      <th>2</th>\n",
       "      <td>2011-01-30</td>\n",
       "      <td>23:58:30</td>\n",
       "      <td>ntiskang</td>\n",
       "      <td>RT @Talksori: RT @redsradio: UAE에 공사비 22조 가운데 ...</td>\n",
       "      <td>https://twitter.com/ntiskang/status/3186385732...</td>\n",
       "      <td>1</td>\n",
       "      <td>0</td>\n",
       "      <td>2009년 9월 30일</td>\n",
       "      <td>19,457</td>\n",
       "      <td>3,489</td>\n",
       "      <td>7,863</td>\n",
       "    </tr>\n",
       "    <tr>\n",
       "      <th>3</th>\n",
       "      <td>2011-01-30</td>\n",
       "      <td>23:58:29</td>\n",
       "      <td>kingkkachil</td>\n",
       "      <td>@jwp615 야당 진짜 정신 차려야 합니다.. 원전 수주 내막, 구제역, 대북문제...</td>\n",
       "      <td>https://twitter.com/kingkkachil/status/3186385...</td>\n",
       "      <td>0</td>\n",
       "      <td>0</td>\n",
       "      <td>2010년 7월 15일</td>\n",
       "      <td>12,335</td>\n",
       "      <td>3,477</td>\n",
       "      <td>3,387</td>\n",
       "    </tr>\n",
       "    <tr>\n",
       "      <th>4</th>\n",
       "      <td>2011-01-30</td>\n",
       "      <td>23:58:04</td>\n",
       "      <td>fobi0446</td>\n",
       "      <td>RT @sutra40: 시사메거진 2580에서 UAE 원전 수주 이면을 공개한 후 ...</td>\n",
       "      <td>https://twitter.com/fobi0446/status/3186374738...</td>\n",
       "      <td>0</td>\n",
       "      <td>0</td>\n",
       "      <td>2010년 11월 23일</td>\n",
       "      <td>1,701</td>\n",
       "      <td>4,564</td>\n",
       "      <td>3,711</td>\n",
       "    </tr>\n",
       "  </tbody>\n",
       "</table>\n",
       "</div>"
      ],
      "text/plain": [
       "         date      time    user_name  \\\n",
       "0  2011-01-30  23:59:41   hebarakiya   \n",
       "1  2011-01-30  23:59:26     girisann   \n",
       "2  2011-01-30  23:58:30     ntiskang   \n",
       "3  2011-01-30  23:58:29  kingkkachil   \n",
       "4  2011-01-30  23:58:04     fobi0446   \n",
       "\n",
       "                                                text  \\\n",
       "0  RT @patriamea: '반값 아파트'나 '반값 등록금' 공약은 지키지 않은 채...   \n",
       "1  RT @sweety_hana: 촉구한다!RT@patriamea: '반값 아파트'나 ...   \n",
       "2  RT @Talksori: RT @redsradio: UAE에 공사비 22조 가운데 ...   \n",
       "3  @jwp615 야당 진짜 정신 차려야 합니다.. 원전 수주 내막, 구제역, 대북문제...   \n",
       "4  RT @sutra40: 시사메거진 2580에서 UAE 원전 수주 이면을 공개한 후 ...   \n",
       "\n",
       "                                                link  retweet_counts  \\\n",
       "0  https://twitter.com/hebarakiya/status/31864158...               0   \n",
       "1  https://twitter.com/girisann/status/3186409203...               0   \n",
       "2  https://twitter.com/ntiskang/status/3186385732...               1   \n",
       "3  https://twitter.com/kingkkachil/status/3186385...               0   \n",
       "4  https://twitter.com/fobi0446/status/3186374738...               0   \n",
       "\n",
       "   favorite_counts   user_created user_tweets user_followings user_followers  \n",
       "0                0   2010년 8월 21일         374              71             30  \n",
       "1                0   2010년 9월 11일         831           1,644          1,100  \n",
       "2                0   2009년 9월 30일      19,457           3,489          7,863  \n",
       "3                0   2010년 7월 15일      12,335           3,477          3,387  \n",
       "4                0  2010년 11월 23일       1,701           4,564          3,711  "
      ]
     },
     "execution_count": 89,
     "metadata": {},
     "output_type": "execute_result"
    }
   ],
   "source": [
    "# 파일 확인하기\n",
    "\n",
    "df_tweet = pd.read_csv('twitter_data_{}_to_{}.csv'.format(days_range[0], days_range[-1]))\n",
    "df_tweet.head(5)"
   ]
  },
  {
   "cell_type": "code",
   "execution_count": 45,
   "metadata": {},
   "outputs": [
    {
     "name": "stdout",
     "output_type": "stream",
     "text": [
      "date                                                      2011-01-17\n",
      "time                                                        06:30:36\n",
      "user_name                                                   kieonhan\n",
      "text               구제역 : 구제역 간단히 근본적으로 해결해야 한다 자연은 말한다 인간이 오염시켜 많...\n",
      "link               https://twitter.com/kieonhan/status/2688910357...\n",
      "retweet_counts                                                     0\n",
      "favorite_counts                                                    0\n",
      "user_created                                           2010년 11월 26일\n",
      "user_tweets                                                      249\n",
      "user_followings                                                 더 보기\n",
      "user_followers                                                  더 보기\n",
      "Name: 426, dtype: object\n"
     ]
    }
   ],
   "source": [
    "# 예외 발생한 id 확인 \n",
    "# 팔로워 수와 팔로잉 수에서 attribute error 발생시킨 경우\n",
    "\n",
    "for item in range(len(df_tweet)):\n",
    "    if df_tweet[\"user_name\"][item] == \"kieonhan\":\n",
    "        print(df_tweet.iloc[item])"
   ]
  },
  {
   "cell_type": "code",
   "execution_count": 90,
   "metadata": {},
   "outputs": [],
   "source": [
    "def get_keywords(dataframe):\n",
    "    keywords = []\n",
    "    text = dataframe[\"text\"].lower()\n",
    "    if \"방사선\" in text:\n",
    "        keywords.append(\"방사선\")\n",
    "    if \"방사능\" in text:\n",
    "        keywords.append(\"방사능\")\n",
    "    if \"원자력\" in text:\n",
    "        keywords.append(\"원자력\")\n",
    "    if \"원전\" in text:\n",
    "        keywords.append(\"원전\")\n",
    "    return \",\".join(keywords)\n",
    "\n",
    "df_tweet[\"keyword\"] = df_tweet.apply(get_keywords,axis=1)"
   ]
  },
  {
   "cell_type": "code",
   "execution_count": 91,
   "metadata": {},
   "outputs": [
    {
     "data": {
      "image/png": "[encoded data removed]",
      "text/plain": [
       "<Figure size 432x288 with 1 Axes>"
      ]
     },
     "metadata": {
      "needs_background": "light"
     },
     "output_type": "display_data"
    },
    {
     "name": "stdout",
     "output_type": "stream",
     "text": [
      "원전            1915\n",
      "원자력            412\n",
      "방사능            204\n",
      "방사선            191\n",
      "원자력,원전          82\n",
      "방사능,원전           5\n",
      "방사능,원자력          4\n",
      "방사선,원자력,원전       3\n",
      "                 2\n",
      "방사선,원자력          1\n",
      "방사선,방사능          1\n",
      "Name: keyword, dtype: int64\n"
     ]
    }
   ],
   "source": [
    "import matplotlib.pyplot as plt\n",
    "import numpy as np\n",
    "\n",
    "counts = df_tweet[\"keyword\"].value_counts()\n",
    "plt.bar(range(len(counts)), counts)\n",
    "plt.title(\"Tweets mentioning keywords\")\n",
    "plt.ylabel(\"# of tweets\")\n",
    "plt.show()\n",
    "print(counts)"
   ]
  },
  {
   "cell_type": "code",
   "execution_count": 92,
   "metadata": {},
   "outputs": [
    {
     "data": {
      "text/plain": [
       "<matplotlib.axes._subplots.AxesSubplot at 0x7fe66af40a58>"
      ]
     },
     "execution_count": 92,
     "metadata": {},
     "output_type": "execute_result"
    },
    {
     "data": {
      "image/png": "[encoded data removed]",
      "text/plain": [
       "<Figure size 432x288 with 1 Axes>"
      ]
     },
     "metadata": {
      "needs_background": "light"
     },
     "output_type": "display_data"
    }
   ],
   "source": [
    "counts = df_tweet[\"date\"].value_counts().sort_index()\n",
    "\n",
    "plt.title(\"Tweets mentioning keywords in time series\")\n",
    "plt.ylabel(\"# of tweets\")\n",
    "plt.xlabel(\"Tweets from 11.01.01 to 11.01.31\")\n",
    "plt.tick_params(\n",
    "    axis='x',          \n",
    "    which='both',      \n",
    "    bottom=False,      \n",
    "    top=False,         \n",
    "    labelbottom=False)\n",
    "counts.plot()\n"
   ]
  },
  {
   "cell_type": "code",
   "execution_count": 53,
   "metadata": {},
   "outputs": [
    {
     "data": {
      "text/html": [
       "<div>\n",
       "<style scoped>\n",
       "    .dataframe tbody tr th:only-of-type {\n",
       "        vertical-align: middle;\n",
       "    }\n",
       "\n",
       "    .dataframe tbody tr th {\n",
       "        vertical-align: top;\n",
       "    }\n",
       "\n",
       "    .dataframe thead th {\n",
       "        text-align: right;\n",
       "    }\n",
       "</style>\n",
       "<table border=\"1\" class=\"dataframe\">\n",
       "  <thead>\n",
       "    <tr style=\"text-align: right;\">\n",
       "      <th></th>\n",
       "      <th>id</th>\n",
       "      <th>link</th>\n",
       "      <th>date</th>\n",
       "      <th>text</th>\n",
       "      <th>ans</th>\n",
       "      <th>retweet</th>\n",
       "      <th>favorite</th>\n",
       "    </tr>\n",
       "  </thead>\n",
       "  <tbody>\n",
       "    <tr>\n",
       "      <th>0</th>\n",
       "      <td>@bluebuzzkr</td>\n",
       "      <td>https://twitter.com/bluebuzzkr/status/31853054...</td>\n",
       "      <td>오후 3:15 - 2011년 1월 30일</td>\n",
       "      <td>작년에 큰 뉴스거리였던 UAE의 원자력발전소 건설 수주(약 22조원), 이 중에서 ...</td>\n",
       "      <td>답글하기</td>\n",
       "      <td>리트윗 1</td>\n",
       "      <td>관심글 담기</td>\n",
       "    </tr>\n",
       "    <tr>\n",
       "      <th>1</th>\n",
       "      <td>@RT_HERO</td>\n",
       "      <td>https://twitter.com/RT_HERO/status/31840300582...</td>\n",
       "      <td>오후 2:24 - 2011년 1월 30일</td>\n",
       "      <td>@choimae 안녕하세요. 저는 강남세브란스 방사선종양학과에서 암치료를 담당하는 ...</td>\n",
       "      <td>답글하기</td>\n",
       "      <td>리트윗</td>\n",
       "      <td>관심글 담기</td>\n",
       "    </tr>\n",
       "    <tr>\n",
       "      <th>2</th>\n",
       "      <td>@kbsnewstweet</td>\n",
       "      <td>https://twitter.com/kbsnewstweet/status/318388...</td>\n",
       "      <td>오후 2:19 - 2011년 1월 30일</td>\n",
       "      <td>엘바라데이, 시위현장 첫 참석…“즉각퇴진” 촉구 http://j.mp/iaHHfC ...</td>\n",
       "      <td>답글하기</td>\n",
       "      <td>리트윗 1</td>\n",
       "      <td>관심글 담기</td>\n",
       "    </tr>\n",
       "    <tr>\n",
       "      <th>3</th>\n",
       "      <td>@Miku_Verse_kbot</td>\n",
       "      <td>https://twitter.com/Miku_Verse_kbot/status/318...</td>\n",
       "      <td>오후 12:00 - 2011년 1월 30일</td>\n",
       "      <td>당신의 마음을 새빨갛게물들이는...사랑과방사능과■■■을마구뿌리는마법소녀 래디컬페인트...</td>\n",
       "      <td>답글하기</td>\n",
       "      <td>리트윗</td>\n",
       "      <td>관심글 담기</td>\n",
       "    </tr>\n",
       "    <tr>\n",
       "      <th>4</th>\n",
       "      <td>@semaing</td>\n",
       "      <td>https://twitter.com/semaing/status/31769265094...</td>\n",
       "      <td>오전 9:42 - 2011년 1월 30일</td>\n",
       "      <td>RT @hangulo 한전 UAE 원자력 본부장은.. 불행히도 계약 내용을 제대로 ...</td>\n",
       "      <td>답글하기</td>\n",
       "      <td>리트윗 3</td>\n",
       "      <td>관심글 담기 1</td>\n",
       "    </tr>\n",
       "  </tbody>\n",
       "</table>\n",
       "</div>"
      ],
      "text/plain": [
       "                 id                                               link  \\\n",
       "0       @bluebuzzkr  https://twitter.com/bluebuzzkr/status/31853054...   \n",
       "1          @RT_HERO  https://twitter.com/RT_HERO/status/31840300582...   \n",
       "2     @kbsnewstweet  https://twitter.com/kbsnewstweet/status/318388...   \n",
       "3  @Miku_Verse_kbot  https://twitter.com/Miku_Verse_kbot/status/318...   \n",
       "4          @semaing  https://twitter.com/semaing/status/31769265094...   \n",
       "\n",
       "                      date                                               text  \\\n",
       "0   오후 3:15 - 2011년 1월 30일  작년에 큰 뉴스거리였던 UAE의 원자력발전소 건설 수주(약 22조원), 이 중에서 ...   \n",
       "1   오후 2:24 - 2011년 1월 30일  @choimae 안녕하세요. 저는 강남세브란스 방사선종양학과에서 암치료를 담당하는 ...   \n",
       "2   오후 2:19 - 2011년 1월 30일  엘바라데이, 시위현장 첫 참석…“즉각퇴진” 촉구 http://j.mp/iaHHfC ...   \n",
       "3  오후 12:00 - 2011년 1월 30일  당신의 마음을 새빨갛게물들이는...사랑과방사능과■■■을마구뿌리는마법소녀 래디컬페인트...   \n",
       "4   오전 9:42 - 2011년 1월 30일  RT @hangulo 한전 UAE 원자력 본부장은.. 불행히도 계약 내용을 제대로 ...   \n",
       "\n",
       "    ans retweet  favorite  \n",
       "0  답글하기   리트윗 1    관심글 담기  \n",
       "1  답글하기     리트윗    관심글 담기  \n",
       "2  답글하기   리트윗 1    관심글 담기  \n",
       "3  답글하기     리트윗    관심글 담기  \n",
       "4  답글하기   리트윗 3  관심글 담기 1  "
      ]
     },
     "execution_count": 53,
     "metadata": {},
     "output_type": "execute_result"
    }
   ],
   "source": [
    "# 연구실 데이터 불러오기\n",
    "\n",
    "df = pd.read_csv(\"2011_01_01to2011_01_31.txt\", delimiter='\\t',encoding='utf-8', header = None)\n",
    "df.columns = ['id', 'link', 'date', 'text', 'ans', 'retweet', 'favorite']\n",
    "df.head(5)"
   ]
  },
  {
   "cell_type": "code",
   "execution_count": 52,
   "metadata": {},
   "outputs": [
    {
     "data": {
      "image/png": "[encoded data removed]",
      "text/plain": [
       "<Figure size 432x288 with 1 Axes>"
      ]
     },
     "metadata": {
      "needs_background": "light"
     },
     "output_type": "display_data"
    },
    {
     "name": "stdout",
     "output_type": "stream",
     "text": [
      "원자력            324\n",
      "방사선            113\n",
      "방사능            111\n",
      "방사선,원자력          4\n",
      "방사선,방사능,원자력      2\n",
      "방사능,원자력          2\n",
      "Name: keyword, dtype: int64\n"
     ]
    }
   ],
   "source": [
    "df[\"keyword\"] = df.apply(get_keywords,axis=1)\n",
    "\n",
    "counts = df[\"keyword\"].value_counts()\n",
    "plt.bar(range(len(counts)), counts)\n",
    "plt.show()\n",
    "print(counts)"
   ]
  }
 ],
 "metadata": {
  "kernelspec": {
   "display_name": "Python 3",
   "language": "python",
   "name": "python3"
  },
  "language_info": {
   "codemirror_mode": {
    "name": "ipython",
    "version": 3
   },
   "file_extension": ".py",
   "mimetype": "text/x-python",
   "name": "python",
   "nbconvert_exporter": "python",
   "pygments_lexer": "ipython3",
   "version": "3.7.3"
  }
 },
 "nbformat": 4,
 "nbformat_minor": 2
}
